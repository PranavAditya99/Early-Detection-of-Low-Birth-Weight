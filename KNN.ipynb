{
 "cells": [
  {
   "cell_type": "code",
   "execution_count": 134,
   "metadata": {},
   "outputs": [],
   "source": [
    "import pandas as pd\n",
    "import random\n",
    "import numpy as np\n",
    "\n",
    "    "
   ]
  },
  {
   "cell_type": "code",
   "execution_count": 135,
   "metadata": {},
   "outputs": [],
   "source": [
    "def data_split(data):\n",
    "    train= data.copy()\n",
    "    test = pd.DataFrame(columns=list(data.columns))\n",
    "    testlen=int(0.2*len(data))\n",
    "    for i in range(testlen):\n",
    "        x=random.randint(-1, len(train)-1)\n",
    "        test=test.append(train[x:x+1],ignore_index = True)\n",
    "        train=train.drop(train.index[x])\n",
    "        train=train.reset_index()\n",
    "        del train['index']\n",
    "    return (test,train)\n",
    "    \n",
    "    "
   ]
  },
  {
   "cell_type": "code",
   "execution_count": 190,
   "metadata": {},
   "outputs": [],
   "source": [
    "def one_hot_encoding(data,col):\n",
    "    \n",
    "    new_cols=list(map(str,np.unique(col)))\n",
    "\n",
    "    \n",
    "    data1=pd.DataFrame(columns=new_cols)\n",
    "    d=dict()\n",
    "    for i in new_cols:\n",
    "        d[i]=0\n",
    "    for i in col:\n",
    "        d[str(i)]=1\n",
    "        data1=data1.append(d,ignore_index=True)\n",
    "        d[str(i)]=0\n",
    "    data=data.drop([col.name],axis=1)\n",
    "    for i in range(len(new_cols)):\n",
    "        new_cols[i]=col.name+new_cols[i]\n",
    "    data1.columns=new_cols\n",
    "    bigdata = data1.join(data)\n",
    "    return bigdata\n",
    "    \n",
    "    "
   ]
  },
  {
   "cell_type": "code",
   "execution_count": 220,
   "metadata": {},
   "outputs": [],
   "source": [
    "def knn(data,k,pt):\n",
    "    x=data.values.tolist()\n",
    "    x=np.array(x)\n",
    "    print(x[0:5])\n",
    "    pt=np.array(pt)\n",
    "    for i in range(len(data)):\n",
    "        x[i]=abs(x[i]-pt)\n",
    "    for j in range(len(x)):\n",
    "        x[j]=list(map(lambda x:float(x*x),x[j]))\n",
    "    y=[]\n",
    "    for i in range(len(x)):\n",
    "        y[i]=sum(x[i])\n",
    "        \n",
    "        \n",
    "        \n",
    "        "
   ]
  },
  {
   "cell_type": "code",
   "execution_count": 226,
   "metadata": {},
   "outputs": [
    {
     "data": {
      "text/plain": [
       "0     0\n",
       "1     0\n",
       "2     0\n",
       "3     0\n",
       "4     0\n",
       "5     0\n",
       "6     0\n",
       "7     0\n",
       "8     0\n",
       "9     0\n",
       "10    0\n",
       "11    0\n",
       "12    0\n",
       "13    0\n",
       "14    0\n",
       "15    0\n",
       "16    0\n",
       "17    0\n",
       "18    1\n",
       "19    1\n",
       "20    1\n",
       "21    1\n",
       "22    1\n",
       "23    1\n",
       "24    1\n",
       "25    1\n",
       "26    1\n",
       "27    1\n",
       "28    1\n",
       "29    1\n",
       "     ..\n",
       "51    1\n",
       "52    1\n",
       "53    1\n",
       "54    1\n",
       "55    1\n",
       "56    1\n",
       "57    1\n",
       "58    1\n",
       "59    1\n",
       "60    1\n",
       "61    1\n",
       "62    1\n",
       "63    1\n",
       "64    1\n",
       "65    1\n",
       "66    1\n",
       "67    1\n",
       "68    1\n",
       "69    1\n",
       "70    1\n",
       "71    1\n",
       "72    1\n",
       "73    1\n",
       "74    1\n",
       "75    1\n",
       "76    1\n",
       "77    1\n",
       "78    1\n",
       "79    1\n",
       "80    1\n",
       "Name: reslt, Length: 81, dtype: int64"
      ]
     },
     "execution_count": 226,
     "metadata": {},
     "output_type": "execute_result"
    }
   ],
   "source": [
    "\n",
    "data=pd.read_csv(\"Data/ImputedAndhraData.csv\") \n",
    "test,train=data_split(data)\n",
    "y_train=train.reslt\n",
    "x_train=train.drop([\"reslt\"],axis=1)\n",
    "y_test=test.reslt\n",
    "x_test=test.drop([\"reslt\"],axis=1)\n",
    "\n",
    "y_train\n",
    "\n",
    "\n"
   ]
  },
  {
   "cell_type": "code",
   "execution_count": 192,
   "metadata": {},
   "outputs": [
    {
     "name": "stdout",
     "output_type": "stream",
     "text": [
      "  community1 community2 community3 community4  age  weight1  history   HB  \\\n",
      "0          1          0          0          0   21       42        1  9.2   \n",
      "1          1          0          0          0   21       42        1  8.8   \n",
      "2          1          0          0          0   21       30        1  9.2   \n",
      "3          1          0          0          0   21       38        1  8.0   \n",
      "4          1          0          0          0   24       33        1  9.3   \n",
      "5          1          0          0          0   26       35        1  9.2   \n",
      "6          0          0          0          1   26       31        1  9.6   \n",
      "7          1          0          0          0   22       30        1  8.9   \n",
      "8          0          0          0          1   17       30        1  9.0   \n",
      "9          0          0          1          0   35       40        1  9.9   \n",
      "\n",
      "   IFA       BP1  education  res  reslt  \n",
      "0    1  1.375000          5    1      0  \n",
      "1    1  1.500000          5    1      0  \n",
      "2    1  2.125000          5    1      0  \n",
      "3    1  1.375000          5    1      0  \n",
      "4    1  1.571000          5    1      0  \n",
      "5    1  1.571429          5    1      0  \n",
      "6    1  1.625000          5    1      0  \n",
      "7    1  1.571429          5    1      0  \n",
      "8    0  1.375000          5    1      0  \n",
      "9    1  1.571429          5    1      0  \n"
     ]
    }
   ],
   "source": [
    "train=one_hot_encoding(train,train.community)\n",
    "print(train.head(10)) \n",
    "  \n",
    "    "
   ]
  },
  {
   "cell_type": "code",
   "execution_count": 193,
   "metadata": {},
   "outputs": [
    {
     "name": "stdout",
     "output_type": "stream",
     "text": [
      "  res1 res2 community1 community2 community3 community4  age  weight1  \\\n",
      "0    1    0          1          0          0          0   21       42   \n",
      "1    1    0          1          0          0          0   21       42   \n",
      "2    1    0          1          0          0          0   21       30   \n",
      "3    1    0          1          0          0          0   21       38   \n",
      "4    1    0          1          0          0          0   24       33   \n",
      "5    1    0          1          0          0          0   26       35   \n",
      "6    1    0          0          0          0          1   26       31   \n",
      "7    1    0          1          0          0          0   22       30   \n",
      "8    1    0          0          0          0          1   17       30   \n",
      "9    1    0          0          0          1          0   35       40   \n",
      "\n",
      "   history   HB  IFA       BP1  education  reslt  \n",
      "0        1  9.2    1  1.375000          5      0  \n",
      "1        1  8.8    1  1.500000          5      0  \n",
      "2        1  9.2    1  2.125000          5      0  \n",
      "3        1  8.0    1  1.375000          5      0  \n",
      "4        1  9.3    1  1.571000          5      0  \n",
      "5        1  9.2    1  1.571429          5      0  \n",
      "6        1  9.6    1  1.625000          5      0  \n",
      "7        1  8.9    1  1.571429          5      0  \n",
      "8        1  9.0    0  1.375000          5      0  \n",
      "9        1  9.9    1  1.571429          5      0  \n"
     ]
    }
   ],
   "source": [
    "\n",
    "train=one_hot_encoding(train,train.res)  \n",
    "print(train.head(10))  "
   ]
  },
  {
   "cell_type": "code",
   "execution_count": 221,
   "metadata": {},
   "outputs": [
    {
     "name": "stdout",
     "output_type": "stream",
     "text": [
      "[[ 1.     0.     1.     0.     0.     0.    21.    42.     1.     9.2\n",
      "   1.     1.375  5.     0.   ]\n",
      " [ 1.     0.     1.     0.     0.     0.    21.    42.     1.     8.8\n",
      "   1.     1.5    5.     0.   ]\n",
      " [ 1.     0.     1.     0.     0.     0.    21.    30.     1.     9.2\n",
      "   1.     2.125  5.     0.   ]\n",
      " [ 1.     0.     1.     0.     0.     0.    21.    38.     1.     8.\n",
      "   1.     1.375  5.     0.   ]\n",
      " [ 1.     0.     1.     0.     0.     0.    24.    33.     1.     9.3\n",
      "   1.     1.571  5.     0.   ]]\n",
      "[[0.0000e+00 0.0000e+00 0.0000e+00 0.0000e+00 0.0000e+00 0.0000e+00\n",
      "  0.0000e+00 0.0000e+00 0.0000e+00 0.0000e+00 0.0000e+00 0.0000e+00\n",
      "  0.0000e+00 0.0000e+00]\n",
      " [0.0000e+00 0.0000e+00 0.0000e+00 0.0000e+00 0.0000e+00 0.0000e+00\n",
      "  0.0000e+00 0.0000e+00 0.0000e+00 1.6000e-01 0.0000e+00 1.5625e-02\n",
      "  0.0000e+00 0.0000e+00]\n",
      " [0.0000e+00 0.0000e+00 0.0000e+00 0.0000e+00 0.0000e+00 0.0000e+00\n",
      "  0.0000e+00 1.4400e+02 0.0000e+00 0.0000e+00 0.0000e+00 5.6250e-01\n",
      "  0.0000e+00 0.0000e+00]\n",
      " [0.0000e+00 0.0000e+00 0.0000e+00 0.0000e+00 0.0000e+00 0.0000e+00\n",
      "  0.0000e+00 1.6000e+01 0.0000e+00 1.4400e+00 0.0000e+00 0.0000e+00\n",
      "  0.0000e+00 0.0000e+00]\n",
      " [0.0000e+00 0.0000e+00 0.0000e+00 0.0000e+00 0.0000e+00 0.0000e+00\n",
      "  9.0000e+00 8.1000e+01 0.0000e+00 1.0000e-02 0.0000e+00 3.8416e-02\n",
      "  0.0000e+00 0.0000e+00]]\n"
     ]
    }
   ],
   "source": [
    "pt=train[0:1].values.tolist()\n",
    "pt=pt[0]\n",
    "knn(train,2,pt)\n"
   ]
  },
  {
   "cell_type": "code",
   "execution_count": 215,
   "metadata": {},
   "outputs": [
    {
     "data": {
      "text/plain": [
       "[1, 4, 9, 16]"
      ]
     },
     "execution_count": 215,
     "metadata": {},
     "output_type": "execute_result"
    }
   ],
   "source": [
    "x=[1,2,3,4]\n",
    "\n",
    "list(map(lambda x:x*x,x))"
   ]
  },
  {
   "cell_type": "code",
   "execution_count": 118,
   "metadata": {},
   "outputs": [
    {
     "data": {
      "text/html": [
       "<div>\n",
       "<style scoped>\n",
       "    .dataframe tbody tr th:only-of-type {\n",
       "        vertical-align: middle;\n",
       "    }\n",
       "\n",
       "    .dataframe tbody tr th {\n",
       "        vertical-align: top;\n",
       "    }\n",
       "\n",
       "    .dataframe thead th {\n",
       "        text-align: right;\n",
       "    }\n",
       "</style>\n",
       "<table border=\"1\" class=\"dataframe\">\n",
       "  <thead>\n",
       "    <tr style=\"text-align: right;\">\n",
       "      <th></th>\n",
       "      <th>1</th>\n",
       "      <th>2</th>\n",
       "      <th>3</th>\n",
       "      <th>4</th>\n",
       "      <th>0</th>\n",
       "    </tr>\n",
       "  </thead>\n",
       "  <tbody>\n",
       "    <tr>\n",
       "      <th>0</th>\n",
       "      <td>NaN</td>\n",
       "      <td>NaN</td>\n",
       "      <td>NaN</td>\n",
       "      <td>NaN</td>\n",
       "      <td>1.0</td>\n",
       "    </tr>\n",
       "    <tr>\n",
       "      <th>1</th>\n",
       "      <td>NaN</td>\n",
       "      <td>NaN</td>\n",
       "      <td>NaN</td>\n",
       "      <td>NaN</td>\n",
       "      <td>1.0</td>\n",
       "    </tr>\n",
       "    <tr>\n",
       "      <th>2</th>\n",
       "      <td>NaN</td>\n",
       "      <td>NaN</td>\n",
       "      <td>NaN</td>\n",
       "      <td>NaN</td>\n",
       "      <td>1.0</td>\n",
       "    </tr>\n",
       "    <tr>\n",
       "      <th>3</th>\n",
       "      <td>NaN</td>\n",
       "      <td>NaN</td>\n",
       "      <td>NaN</td>\n",
       "      <td>NaN</td>\n",
       "      <td>1.0</td>\n",
       "    </tr>\n",
       "  </tbody>\n",
       "</table>\n",
       "</div>"
      ],
      "text/plain": [
       "     1    2    3    4    0\n",
       "0  NaN  NaN  NaN  NaN  1.0\n",
       "1  NaN  NaN  NaN  NaN  1.0\n",
       "2  NaN  NaN  NaN  NaN  1.0\n",
       "3  NaN  NaN  NaN  NaN  1.0"
      ]
     },
     "execution_count": 118,
     "metadata": {},
     "output_type": "execute_result"
    }
   ],
   "source": []
  },
  {
   "cell_type": "code",
   "execution_count": null,
   "metadata": {},
   "outputs": [],
   "source": []
  }
 ],
 "metadata": {
  "kernelspec": {
   "display_name": "Python 3",
   "language": "python",
   "name": "python3"
  },
  "language_info": {
   "codemirror_mode": {
    "name": "ipython",
    "version": 3
   },
   "file_extension": ".py",
   "mimetype": "text/x-python",
   "name": "python",
   "nbconvert_exporter": "python",
   "pygments_lexer": "ipython3",
   "version": "3.6.5"
  }
 },
 "nbformat": 4,
 "nbformat_minor": 2
}
